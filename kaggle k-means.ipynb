{
 "cells": [
  {
   "cell_type": "code",
   "execution_count": 1,
   "metadata": {},
   "outputs": [
    {
     "name": "stdout",
     "output_type": "stream",
     "text": [
      "Read 25000 labeled train reviews, 25000 labeled test reviews, and 50000 unlabeled reviews\n",
      "\n"
     ]
    }
   ],
   "source": [
    "import pandas as pd\n",
    "\n",
    "# Read data from files \n",
    "train = pd.read_csv( \"/Users/sohyun/Desktop/review data/labeledTrainData.tsv\", header=0, delimiter=\"\\t\", quoting=3 )\n",
    "test = pd.read_csv( \"/Users/sohyun/Desktop/review data/testData.tsv\", header=0, delimiter=\"\\t\", quoting=3 )\n",
    "unlabeled_train = pd.read_csv( \"/Users/sohyun/Desktop/review data/unlabeledTrainData.tsv\", header=0, delimiter=\"\\t\", quoting=3 )\n",
    "\n",
    "# Verify the number of reviews that were read (100,000 in total)\n",
    "print(\"Read %d labeled train reviews, %d labeled test reviews, \" \\\n",
    " \"and %d unlabeled reviews\\n\" % (train[\"review\"].size,  \n",
    " test[\"review\"].size, unlabeled_train[\"review\"].size ))"
   ]
  },
  {
   "cell_type": "code",
   "execution_count": 2,
   "metadata": {},
   "outputs": [],
   "source": [
    "# Import various modules for string cleaning\n",
    "from bs4 import BeautifulSoup\n",
    "import re\n",
    "from nltk.corpus import stopwords\n",
    "\n",
    "def review_to_wordlist( review, remove_stopwords=False ):\n",
    "    # Function to convert a document to a sequence of words,\n",
    "    # optionally removing stop words.  Returns a list of words.\n",
    "    #\n",
    "    # 1. Remove HTML\n",
    "    review_text = BeautifulSoup(review).get_text()\n",
    "    #  \n",
    "    # 2. Remove non-letters\n",
    "    review_text = re.sub(\"[^a-zA-Z]\",\" \", review_text)\n",
    "    #\n",
    "    # 3. Convert words to lower case and split them\n",
    "    words = review_text.lower().split()\n",
    "    #\n",
    "    # 4. Optionally remove stop words (false by default)\n",
    "    if remove_stopwords:\n",
    "        stops = set(stopwords.words(\"english\"))\n",
    "        words = [w for w in words if not w in stops]\n",
    "    #\n",
    "    # 5. Return a list of words\n",
    "    return(words)"
   ]
  },
  {
   "cell_type": "code",
   "execution_count": 3,
   "metadata": {},
   "outputs": [],
   "source": [
    "# Download the punkt tokenizer for sentence splitting\n",
    "import nltk.data\n",
    "\n",
    "# Load the punkt tokenizer\n",
    "tokenizer = nltk.data.load('tokenizers/punkt/english.pickle')\n",
    "\n",
    "# Define a function to split a review into parsed sentences\n",
    "def review_to_sentences( review, tokenizer, remove_stopwords=False ):\n",
    "    # Function to split a review into parsed sentences. Returns a \n",
    "    # list of sentences, where each sentence is a list of words\n",
    "    #\n",
    "    # 1. Use the NLTK tokenizer to split the paragraph into sentences\n",
    "    raw_sentences = tokenizer.tokenize(review.strip())\n",
    "    #\n",
    "    # 2. Loop over each sentence\n",
    "    sentences = []\n",
    "    for raw_sentence in raw_sentences:\n",
    "        # If a sentence is empty, skip it\n",
    "        if len(raw_sentence) > 0:\n",
    "            # Otherwise, call review_to_wordlist to get a list of words\n",
    "            sentences.append( review_to_wordlist( raw_sentence, \\\n",
    "              remove_stopwords ))\n",
    "    #\n",
    "    # Return the list of sentences (each sentence is a list of words,\n",
    "    # so this returns a list of lists\n",
    "    return sentences"
   ]
  },
  {
   "cell_type": "code",
   "execution_count": 5,
   "metadata": {},
   "outputs": [
    {
     "name": "stdout",
     "output_type": "stream",
     "text": [
      "Parsing sentences from training set\n"
     ]
    },
    {
     "name": "stderr",
     "output_type": "stream",
     "text": [
      "/Users/sohyun/anaconda3/lib/python3.6/site-packages/bs4/__init__.py:273: UserWarning: \"b'.'\" looks like a filename, not markup. You should probably open this file and pass the filehandle into Beautiful Soup.\n",
      "  ' Beautiful Soup.' % markup)\n",
      "/Users/sohyun/anaconda3/lib/python3.6/site-packages/bs4/__init__.py:336: UserWarning: \"http://www.happierabroad.com\"\" looks like a URL. Beautiful Soup is not an HTTP client. You should probably use an HTTP client like requests to get the document behind the URL, and feed that document to Beautiful Soup.\n",
      "  ' that document to Beautiful Soup.' % decoded_markup\n"
     ]
    },
    {
     "name": "stdout",
     "output_type": "stream",
     "text": [
      "Parsing sentences from unlabeled set\n"
     ]
    },
    {
     "name": "stderr",
     "output_type": "stream",
     "text": [
      "/Users/sohyun/anaconda3/lib/python3.6/site-packages/bs4/__init__.py:336: UserWarning: \"http://www.archive.org/details/LovefromaStranger\"\" looks like a URL. Beautiful Soup is not an HTTP client. You should probably use an HTTP client like requests to get the document behind the URL, and feed that document to Beautiful Soup.\n",
      "  ' that document to Beautiful Soup.' % decoded_markup\n",
      "/Users/sohyun/anaconda3/lib/python3.6/site-packages/bs4/__init__.py:336: UserWarning: \"http://www.loosechangeguide.com/LooseChangeGuide.html\"\" looks like a URL. Beautiful Soup is not an HTTP client. You should probably use an HTTP client like requests to get the document behind the URL, and feed that document to Beautiful Soup.\n",
      "  ' that document to Beautiful Soup.' % decoded_markup\n",
      "/Users/sohyun/anaconda3/lib/python3.6/site-packages/bs4/__init__.py:336: UserWarning: \"http://www.msnbc.msn.com/id/4972055/site/newsweek/\"\" looks like a URL. Beautiful Soup is not an HTTP client. You should probably use an HTTP client like requests to get the document behind the URL, and feed that document to Beautiful Soup.\n",
      "  ' that document to Beautiful Soup.' % decoded_markup\n",
      "/Users/sohyun/anaconda3/lib/python3.6/site-packages/bs4/__init__.py:273: UserWarning: \"b'..'\" looks like a filename, not markup. You should probably open this file and pass the filehandle into Beautiful Soup.\n",
      "  ' Beautiful Soup.' % markup)\n",
      "/Users/sohyun/anaconda3/lib/python3.6/site-packages/bs4/__init__.py:336: UserWarning: \"http://www.youtube.com/watch?v=a0KSqelmgN8\"\" looks like a URL. Beautiful Soup is not an HTTP client. You should probably use an HTTP client like requests to get the document behind the URL, and feed that document to Beautiful Soup.\n",
      "  ' that document to Beautiful Soup.' % decoded_markup\n",
      "/Users/sohyun/anaconda3/lib/python3.6/site-packages/bs4/__init__.py:336: UserWarning: \"http://jake-weird.blogspot.com/2007/08/beneath.html\"\" looks like a URL. Beautiful Soup is not an HTTP client. You should probably use an HTTP client like requests to get the document behind the URL, and feed that document to Beautiful Soup.\n",
      "  ' that document to Beautiful Soup.' % decoded_markup\n"
     ]
    }
   ],
   "source": [
    "sentences = []  # Initialize an empty list of sentences\n",
    "\n",
    "print(\"Parsing sentences from training set\")\n",
    "for review in train[\"review\"]:\n",
    "    sentences += review_to_sentences(review, tokenizer)\n",
    "\n",
    "print(\"Parsing sentences from unlabeled set\")\n",
    "for review in unlabeled_train[\"review\"]:\n",
    "    sentences += review_to_sentences(review, tokenizer)"
   ]
  },
  {
   "cell_type": "code",
   "execution_count": 6,
   "metadata": {},
   "outputs": [],
   "source": [
    "# training and saving model"
   ]
  },
  {
   "cell_type": "code",
   "execution_count": 8,
   "metadata": {},
   "outputs": [
    {
     "name": "stderr",
     "output_type": "stream",
     "text": [
      "2019-06-13 10:35:52,620 : INFO : 'pattern' package not found; tag filters are not available for English\n",
      "2019-06-13 10:35:52,627 : INFO : collecting all words and their counts\n",
      "2019-06-13 10:35:52,628 : INFO : PROGRESS: at sentence #0, processed 0 words, keeping 0 word types\n",
      "2019-06-13 10:35:52,725 : INFO : PROGRESS: at sentence #10000, processed 225803 words, keeping 17776 word types\n",
      "2019-06-13 10:35:52,807 : INFO : PROGRESS: at sentence #20000, processed 451892 words, keeping 24948 word types\n"
     ]
    },
    {
     "name": "stdout",
     "output_type": "stream",
     "text": [
      "Training model...\n"
     ]
    },
    {
     "name": "stderr",
     "output_type": "stream",
     "text": [
      "2019-06-13 10:35:52,909 : INFO : PROGRESS: at sentence #30000, processed 671315 words, keeping 30034 word types\n",
      "2019-06-13 10:35:52,983 : INFO : PROGRESS: at sentence #40000, processed 897815 words, keeping 34348 word types\n",
      "2019-06-13 10:35:53,031 : INFO : PROGRESS: at sentence #50000, processed 1116963 words, keeping 37761 word types\n",
      "2019-06-13 10:35:53,116 : INFO : PROGRESS: at sentence #60000, processed 1338404 words, keeping 40723 word types\n",
      "2019-06-13 10:35:53,163 : INFO : PROGRESS: at sentence #70000, processed 1561580 words, keeping 43333 word types\n",
      "2019-06-13 10:35:53,261 : INFO : PROGRESS: at sentence #80000, processed 1780887 words, keeping 45714 word types\n",
      "2019-06-13 10:35:53,339 : INFO : PROGRESS: at sentence #90000, processed 2004996 words, keeping 48135 word types\n",
      "2019-06-13 10:35:53,398 : INFO : PROGRESS: at sentence #100000, processed 2226966 words, keeping 50207 word types\n",
      "2019-06-13 10:35:53,491 : INFO : PROGRESS: at sentence #110000, processed 2446580 words, keeping 52081 word types\n",
      "2019-06-13 10:35:53,565 : INFO : PROGRESS: at sentence #120000, processed 2668775 words, keeping 54119 word types\n",
      "2019-06-13 10:35:53,644 : INFO : PROGRESS: at sentence #130000, processed 2894303 words, keeping 55847 word types\n",
      "2019-06-13 10:35:53,703 : INFO : PROGRESS: at sentence #140000, processed 3107005 words, keeping 57346 word types\n",
      "2019-06-13 10:35:53,791 : INFO : PROGRESS: at sentence #150000, processed 3332627 words, keeping 59055 word types\n",
      "2019-06-13 10:35:53,863 : INFO : PROGRESS: at sentence #160000, processed 3555315 words, keeping 60617 word types\n",
      "2019-06-13 10:35:53,954 : INFO : PROGRESS: at sentence #170000, processed 3778655 words, keeping 62077 word types\n",
      "2019-06-13 10:35:54,019 : INFO : PROGRESS: at sentence #180000, processed 3999236 words, keeping 63496 word types\n",
      "2019-06-13 10:35:54,104 : INFO : PROGRESS: at sentence #190000, processed 4224449 words, keeping 64794 word types\n",
      "2019-06-13 10:35:54,179 : INFO : PROGRESS: at sentence #200000, processed 4448603 words, keeping 66087 word types\n",
      "2019-06-13 10:35:54,260 : INFO : PROGRESS: at sentence #210000, processed 4669967 words, keeping 67390 word types\n",
      "2019-06-13 10:35:54,335 : INFO : PROGRESS: at sentence #220000, processed 4894968 words, keeping 68697 word types\n",
      "2019-06-13 10:35:54,406 : INFO : PROGRESS: at sentence #230000, processed 5117545 words, keeping 69958 word types\n",
      "2019-06-13 10:35:54,481 : INFO : PROGRESS: at sentence #240000, processed 5345050 words, keeping 71167 word types\n",
      "2019-06-13 10:35:54,552 : INFO : PROGRESS: at sentence #250000, processed 5559165 words, keeping 72351 word types\n",
      "2019-06-13 10:35:54,610 : INFO : PROGRESS: at sentence #260000, processed 5779146 words, keeping 73478 word types\n",
      "2019-06-13 10:35:54,685 : INFO : PROGRESS: at sentence #270000, processed 6000435 words, keeping 74767 word types\n",
      "2019-06-13 10:35:54,747 : INFO : PROGRESS: at sentence #280000, processed 6226314 words, keeping 76369 word types\n",
      "2019-06-13 10:35:54,812 : INFO : PROGRESS: at sentence #290000, processed 6449474 words, keeping 77839 word types\n",
      "2019-06-13 10:35:54,864 : INFO : PROGRESS: at sentence #300000, processed 6674077 words, keeping 79171 word types\n",
      "2019-06-13 10:35:54,936 : INFO : PROGRESS: at sentence #310000, processed 6899391 words, keeping 80480 word types\n",
      "2019-06-13 10:35:54,992 : INFO : PROGRESS: at sentence #320000, processed 7124278 words, keeping 81808 word types\n",
      "2019-06-13 10:35:55,057 : INFO : PROGRESS: at sentence #330000, processed 7346021 words, keeping 83030 word types\n",
      "2019-06-13 10:35:55,115 : INFO : PROGRESS: at sentence #340000, processed 7575533 words, keeping 84280 word types\n",
      "2019-06-13 10:35:55,194 : INFO : PROGRESS: at sentence #350000, processed 7798803 words, keeping 85425 word types\n",
      "2019-06-13 10:35:55,273 : INFO : PROGRESS: at sentence #360000, processed 8019427 words, keeping 86596 word types\n",
      "2019-06-13 10:35:55,347 : INFO : PROGRESS: at sentence #370000, processed 8246619 words, keeping 87708 word types\n",
      "2019-06-13 10:35:55,425 : INFO : PROGRESS: at sentence #380000, processed 8471766 words, keeping 88878 word types\n",
      "2019-06-13 10:35:55,504 : INFO : PROGRESS: at sentence #390000, processed 8701497 words, keeping 89907 word types\n",
      "2019-06-13 10:35:55,575 : INFO : PROGRESS: at sentence #400000, processed 8924446 words, keeping 90916 word types\n",
      "2019-06-13 10:35:55,646 : INFO : PROGRESS: at sentence #410000, processed 9145796 words, keeping 91880 word types\n",
      "2019-06-13 10:35:55,710 : INFO : PROGRESS: at sentence #420000, processed 9366876 words, keeping 92912 word types\n",
      "2019-06-13 10:35:55,790 : INFO : PROGRESS: at sentence #430000, processed 9594413 words, keeping 93932 word types\n",
      "2019-06-13 10:35:55,885 : INFO : PROGRESS: at sentence #440000, processed 9821166 words, keeping 94906 word types\n",
      "2019-06-13 10:35:55,988 : INFO : PROGRESS: at sentence #450000, processed 10044928 words, keeping 96036 word types\n",
      "2019-06-13 10:35:56,087 : INFO : PROGRESS: at sentence #460000, processed 10277688 words, keeping 97088 word types\n",
      "2019-06-13 10:35:56,178 : INFO : PROGRESS: at sentence #470000, processed 10505613 words, keeping 97933 word types\n",
      "2019-06-13 10:35:56,290 : INFO : PROGRESS: at sentence #480000, processed 10725997 words, keeping 98862 word types\n",
      "2019-06-13 10:35:56,411 : INFO : PROGRESS: at sentence #490000, processed 10952741 words, keeping 99871 word types\n",
      "2019-06-13 10:35:56,510 : INFO : PROGRESS: at sentence #500000, processed 11174397 words, keeping 100765 word types\n",
      "2019-06-13 10:35:56,590 : INFO : PROGRESS: at sentence #510000, processed 11399672 words, keeping 101699 word types\n",
      "2019-06-13 10:35:56,672 : INFO : PROGRESS: at sentence #520000, processed 11623020 words, keeping 102598 word types\n",
      "2019-06-13 10:35:56,745 : INFO : PROGRESS: at sentence #530000, processed 11847418 words, keeping 103400 word types\n",
      "2019-06-13 10:35:56,830 : INFO : PROGRESS: at sentence #540000, processed 12072033 words, keeping 104265 word types\n",
      "2019-06-13 10:35:56,938 : INFO : PROGRESS: at sentence #550000, processed 12297571 words, keeping 105133 word types\n",
      "2019-06-13 10:35:57,006 : INFO : PROGRESS: at sentence #560000, processed 12518861 words, keeping 105997 word types\n",
      "2019-06-13 10:35:57,076 : INFO : PROGRESS: at sentence #570000, processed 12747916 words, keeping 106787 word types\n",
      "2019-06-13 10:35:57,153 : INFO : PROGRESS: at sentence #580000, processed 12969412 words, keeping 107665 word types\n",
      "2019-06-13 10:35:57,223 : INFO : PROGRESS: at sentence #590000, processed 13194937 words, keeping 108501 word types\n",
      "2019-06-13 10:35:57,277 : INFO : PROGRESS: at sentence #600000, processed 13417135 words, keeping 109218 word types\n",
      "2019-06-13 10:35:57,360 : INFO : PROGRESS: at sentence #610000, processed 13638158 words, keeping 110092 word types\n",
      "2019-06-13 10:35:57,457 : INFO : PROGRESS: at sentence #620000, processed 13864483 words, keeping 110837 word types\n",
      "2019-06-13 10:35:57,530 : INFO : PROGRESS: at sentence #630000, processed 14088769 words, keeping 111610 word types\n",
      "2019-06-13 10:35:57,619 : INFO : PROGRESS: at sentence #640000, processed 14309552 words, keeping 112416 word types\n",
      "2019-06-13 10:35:57,678 : INFO : PROGRESS: at sentence #650000, processed 14535308 words, keeping 113196 word types\n",
      "2019-06-13 10:35:57,758 : INFO : PROGRESS: at sentence #660000, processed 14758098 words, keeping 113945 word types\n",
      "2019-06-13 10:35:57,824 : INFO : PROGRESS: at sentence #670000, processed 14981482 words, keeping 114643 word types\n",
      "2019-06-13 10:35:57,899 : INFO : PROGRESS: at sentence #680000, processed 15206314 words, keeping 115354 word types\n",
      "2019-06-13 10:35:57,947 : INFO : PROGRESS: at sentence #690000, processed 15428507 words, keeping 116131 word types\n",
      "2019-06-13 10:35:58,055 : INFO : PROGRESS: at sentence #700000, processed 15657213 words, keeping 116943 word types\n",
      "2019-06-13 10:35:58,118 : INFO : PROGRESS: at sentence #710000, processed 15880202 words, keeping 117596 word types\n",
      "2019-06-13 10:35:58,195 : INFO : PROGRESS: at sentence #720000, processed 16105489 words, keeping 118221 word types\n",
      "2019-06-13 10:35:58,296 : INFO : PROGRESS: at sentence #730000, processed 16331870 words, keeping 118954 word types\n",
      "2019-06-13 10:35:58,388 : INFO : PROGRESS: at sentence #740000, processed 16552903 words, keeping 119668 word types\n"
     ]
    },
    {
     "name": "stderr",
     "output_type": "stream",
     "text": [
      "2019-06-13 10:35:58,478 : INFO : PROGRESS: at sentence #750000, processed 16771230 words, keeping 120295 word types\n",
      "2019-06-13 10:35:58,573 : INFO : PROGRESS: at sentence #760000, processed 16990622 words, keeping 120930 word types\n",
      "2019-06-13 10:35:58,666 : INFO : PROGRESS: at sentence #770000, processed 17217759 words, keeping 121703 word types\n",
      "2019-06-13 10:35:58,762 : INFO : PROGRESS: at sentence #780000, processed 17447905 words, keeping 122402 word types\n",
      "2019-06-13 10:35:58,860 : INFO : PROGRESS: at sentence #790000, processed 17674981 words, keeping 123066 word types\n",
      "2019-06-13 10:35:58,908 : INFO : collected 123504 word types from a corpus of 17798082 raw words and 795538 sentences\n",
      "2019-06-13 10:35:58,908 : INFO : Loading a fresh vocabulary\n",
      "2019-06-13 10:35:59,012 : INFO : effective_min_count=40 retains 16490 unique words (13% of original 123504, drops 107014)\n",
      "2019-06-13 10:35:59,012 : INFO : effective_min_count=40 leaves 17238940 word corpus (96% of original 17798082, drops 559142)\n",
      "2019-06-13 10:35:59,082 : INFO : deleting the raw counts dictionary of 123504 items\n",
      "2019-06-13 10:35:59,088 : INFO : sample=0.001 downsamples 48 most-common words\n",
      "2019-06-13 10:35:59,088 : INFO : downsampling leaves estimated 12749658 word corpus (74.0% of prior 17238940)\n",
      "2019-06-13 10:35:59,173 : INFO : estimated required memory for 16490 words and 300 dimensions: 47821000 bytes\n",
      "2019-06-13 10:35:59,173 : INFO : resetting layer weights\n",
      "2019-06-13 10:35:59,495 : INFO : training model with 4 workers on 16490 vocabulary and 300 features, using sg=0 hs=0 sample=0.001 negative=5 window=10\n",
      "2019-06-13 10:36:00,510 : INFO : EPOCH 1 - PROGRESS: at 3.99% examples, 506860 words/s, in_qsize 7, out_qsize 0\n",
      "2019-06-13 10:36:01,530 : INFO : EPOCH 1 - PROGRESS: at 9.45% examples, 593981 words/s, in_qsize 7, out_qsize 0\n",
      "2019-06-13 10:36:02,541 : INFO : EPOCH 1 - PROGRESS: at 15.12% examples, 632070 words/s, in_qsize 7, out_qsize 0\n",
      "2019-06-13 10:36:03,544 : INFO : EPOCH 1 - PROGRESS: at 18.64% examples, 584806 words/s, in_qsize 7, out_qsize 0\n",
      "2019-06-13 10:36:04,549 : INFO : EPOCH 1 - PROGRESS: at 22.15% examples, 556167 words/s, in_qsize 7, out_qsize 0\n",
      "2019-06-13 10:36:05,559 : INFO : EPOCH 1 - PROGRESS: at 26.41% examples, 553074 words/s, in_qsize 7, out_qsize 0\n",
      "2019-06-13 10:36:06,561 : INFO : EPOCH 1 - PROGRESS: at 31.56% examples, 566683 words/s, in_qsize 7, out_qsize 0\n",
      "2019-06-13 10:36:07,573 : INFO : EPOCH 1 - PROGRESS: at 36.68% examples, 576248 words/s, in_qsize 7, out_qsize 0\n",
      "2019-06-13 10:36:08,581 : INFO : EPOCH 1 - PROGRESS: at 41.81% examples, 584766 words/s, in_qsize 7, out_qsize 0\n",
      "2019-06-13 10:36:09,581 : INFO : EPOCH 1 - PROGRESS: at 46.93% examples, 591991 words/s, in_qsize 7, out_qsize 0\n",
      "2019-06-13 10:36:10,589 : INFO : EPOCH 1 - PROGRESS: at 52.16% examples, 598198 words/s, in_qsize 7, out_qsize 0\n",
      "2019-06-13 10:36:11,591 : INFO : EPOCH 1 - PROGRESS: at 57.57% examples, 606523 words/s, in_qsize 7, out_qsize 0\n",
      "2019-06-13 10:36:12,605 : INFO : EPOCH 1 - PROGRESS: at 62.18% examples, 604920 words/s, in_qsize 8, out_qsize 1\n",
      "2019-06-13 10:36:13,621 : INFO : EPOCH 1 - PROGRESS: at 65.85% examples, 594282 words/s, in_qsize 6, out_qsize 1\n",
      "2019-06-13 10:36:14,627 : INFO : EPOCH 1 - PROGRESS: at 69.65% examples, 586948 words/s, in_qsize 7, out_qsize 0\n",
      "2019-06-13 10:36:15,632 : INFO : EPOCH 1 - PROGRESS: at 72.84% examples, 575666 words/s, in_qsize 6, out_qsize 1\n",
      "2019-06-13 10:36:16,645 : INFO : EPOCH 1 - PROGRESS: at 77.15% examples, 573749 words/s, in_qsize 7, out_qsize 0\n",
      "2019-06-13 10:36:17,660 : INFO : EPOCH 1 - PROGRESS: at 82.44% examples, 578712 words/s, in_qsize 7, out_qsize 0\n",
      "2019-06-13 10:36:18,663 : INFO : EPOCH 1 - PROGRESS: at 86.48% examples, 575325 words/s, in_qsize 7, out_qsize 0\n",
      "2019-06-13 10:36:19,669 : INFO : EPOCH 1 - PROGRESS: at 91.49% examples, 578512 words/s, in_qsize 7, out_qsize 0\n",
      "2019-06-13 10:36:20,675 : INFO : EPOCH 1 - PROGRESS: at 96.14% examples, 578764 words/s, in_qsize 7, out_qsize 0\n",
      "2019-06-13 10:36:21,623 : INFO : worker thread finished; awaiting finish of 3 more threads\n",
      "2019-06-13 10:36:21,634 : INFO : worker thread finished; awaiting finish of 2 more threads\n",
      "2019-06-13 10:36:21,639 : INFO : worker thread finished; awaiting finish of 1 more threads\n",
      "2019-06-13 10:36:21,644 : INFO : worker thread finished; awaiting finish of 0 more threads\n",
      "2019-06-13 10:36:21,645 : INFO : EPOCH - 1 : training on 17798082 raw words (12750552 effective words) took 22.1s, 575994 effective words/s\n",
      "2019-06-13 10:36:22,665 : INFO : EPOCH 2 - PROGRESS: at 4.21% examples, 529884 words/s, in_qsize 7, out_qsize 0\n",
      "2019-06-13 10:36:23,678 : INFO : EPOCH 2 - PROGRESS: at 7.94% examples, 497873 words/s, in_qsize 7, out_qsize 0\n",
      "2019-06-13 10:36:24,679 : INFO : EPOCH 2 - PROGRESS: at 12.34% examples, 517568 words/s, in_qsize 7, out_qsize 0\n",
      "2019-06-13 10:36:25,695 : INFO : EPOCH 2 - PROGRESS: at 17.80% examples, 557325 words/s, in_qsize 7, out_qsize 0\n",
      "2019-06-13 10:36:26,710 : INFO : EPOCH 2 - PROGRESS: at 23.09% examples, 578362 words/s, in_qsize 7, out_qsize 0\n",
      "2019-06-13 10:36:27,714 : INFO : EPOCH 2 - PROGRESS: at 28.37% examples, 593390 words/s, in_qsize 7, out_qsize 0\n",
      "2019-06-13 10:36:28,717 : INFO : EPOCH 2 - PROGRESS: at 33.66% examples, 603135 words/s, in_qsize 8, out_qsize 0\n",
      "2019-06-13 10:36:29,720 : INFO : EPOCH 2 - PROGRESS: at 38.57% examples, 606202 words/s, in_qsize 7, out_qsize 0\n",
      "2019-06-13 10:36:30,724 : INFO : EPOCH 2 - PROGRESS: at 42.41% examples, 593535 words/s, in_qsize 8, out_qsize 0\n",
      "2019-06-13 10:36:31,730 : INFO : EPOCH 2 - PROGRESS: at 45.60% examples, 574661 words/s, in_qsize 7, out_qsize 0\n",
      "2019-06-13 10:36:32,743 : INFO : EPOCH 2 - PROGRESS: at 49.94% examples, 572514 words/s, in_qsize 7, out_qsize 0\n",
      "2019-06-13 10:36:33,757 : INFO : EPOCH 2 - PROGRESS: at 54.81% examples, 575939 words/s, in_qsize 6, out_qsize 1\n",
      "2019-06-13 10:36:34,758 : INFO : EPOCH 2 - PROGRESS: at 58.02% examples, 563552 words/s, in_qsize 7, out_qsize 0\n",
      "2019-06-13 10:36:35,768 : INFO : EPOCH 2 - PROGRESS: at 62.59% examples, 564766 words/s, in_qsize 7, out_qsize 0\n",
      "2019-06-13 10:36:36,815 : INFO : EPOCH 2 - PROGRESS: at 67.06% examples, 563527 words/s, in_qsize 7, out_qsize 0\n",
      "2019-06-13 10:36:37,828 : INFO : EPOCH 2 - PROGRESS: at 71.05% examples, 559625 words/s, in_qsize 7, out_qsize 0\n",
      "2019-06-13 10:36:38,835 : INFO : EPOCH 2 - PROGRESS: at 73.56% examples, 545540 words/s, in_qsize 7, out_qsize 0\n",
      "2019-06-13 10:36:39,879 : INFO : EPOCH 2 - PROGRESS: at 76.43% examples, 534271 words/s, in_qsize 7, out_qsize 0\n",
      "2019-06-13 10:36:40,920 : INFO : EPOCH 2 - PROGRESS: at 79.40% examples, 525096 words/s, in_qsize 6, out_qsize 1\n",
      "2019-06-13 10:36:41,926 : INFO : EPOCH 2 - PROGRESS: at 82.50% examples, 518423 words/s, in_qsize 7, out_qsize 0\n",
      "2019-06-13 10:36:42,941 : INFO : EPOCH 2 - PROGRESS: at 87.14% examples, 521587 words/s, in_qsize 7, out_qsize 1\n",
      "2019-06-13 10:36:43,950 : INFO : EPOCH 2 - PROGRESS: at 90.88% examples, 519475 words/s, in_qsize 8, out_qsize 0\n",
      "2019-06-13 10:36:44,962 : INFO : EPOCH 2 - PROGRESS: at 94.54% examples, 516858 words/s, in_qsize 7, out_qsize 0\n",
      "2019-06-13 10:36:45,988 : INFO : EPOCH 2 - PROGRESS: at 96.80% examples, 506820 words/s, in_qsize 7, out_qsize 0\n",
      "2019-06-13 10:36:46,993 : INFO : EPOCH 2 - PROGRESS: at 98.29% examples, 494358 words/s, in_qsize 7, out_qsize 0\n",
      "2019-06-13 10:36:47,683 : INFO : worker thread finished; awaiting finish of 3 more threads\n",
      "2019-06-13 10:36:47,719 : INFO : worker thread finished; awaiting finish of 2 more threads\n",
      "2019-06-13 10:36:47,725 : INFO : worker thread finished; awaiting finish of 1 more threads\n",
      "2019-06-13 10:36:47,753 : INFO : worker thread finished; awaiting finish of 0 more threads\n",
      "2019-06-13 10:36:47,757 : INFO : EPOCH - 2 : training on 17798082 raw words (12748131 effective words) took 26.1s, 488372 effective words/s\n",
      "2019-06-13 10:36:48,774 : INFO : EPOCH 3 - PROGRESS: at 3.13% examples, 399062 words/s, in_qsize 7, out_qsize 0\n",
      "2019-06-13 10:36:49,781 : INFO : EPOCH 3 - PROGRESS: at 6.96% examples, 440762 words/s, in_qsize 7, out_qsize 0\n",
      "2019-06-13 10:36:50,783 : INFO : EPOCH 3 - PROGRESS: at 11.95% examples, 503147 words/s, in_qsize 7, out_qsize 0\n",
      "2019-06-13 10:36:51,807 : INFO : EPOCH 3 - PROGRESS: at 17.17% examples, 538658 words/s, in_qsize 7, out_qsize 1\n"
     ]
    },
    {
     "name": "stderr",
     "output_type": "stream",
     "text": [
      "2019-06-13 10:36:52,812 : INFO : EPOCH 3 - PROGRESS: at 22.32% examples, 560262 words/s, in_qsize 8, out_qsize 0\n",
      "2019-06-13 10:36:53,813 : INFO : EPOCH 3 - PROGRESS: at 27.25% examples, 571444 words/s, in_qsize 7, out_qsize 0\n",
      "2019-06-13 10:36:54,832 : INFO : EPOCH 3 - PROGRESS: at 32.34% examples, 580038 words/s, in_qsize 7, out_qsize 0\n",
      "2019-06-13 10:36:55,858 : INFO : EPOCH 3 - PROGRESS: at 36.29% examples, 568369 words/s, in_qsize 6, out_qsize 1\n",
      "2019-06-13 10:36:56,875 : INFO : EPOCH 3 - PROGRESS: at 40.75% examples, 567773 words/s, in_qsize 8, out_qsize 1\n",
      "2019-06-13 10:36:57,886 : INFO : EPOCH 3 - PROGRESS: at 43.31% examples, 543565 words/s, in_qsize 7, out_qsize 0\n",
      "2019-06-13 10:36:58,887 : INFO : EPOCH 3 - PROGRESS: at 47.39% examples, 541532 words/s, in_qsize 7, out_qsize 0\n",
      "2019-06-13 10:36:59,892 : INFO : EPOCH 3 - PROGRESS: at 51.08% examples, 535614 words/s, in_qsize 7, out_qsize 0\n",
      "2019-06-13 10:37:00,903 : INFO : EPOCH 3 - PROGRESS: at 54.54% examples, 528114 words/s, in_qsize 7, out_qsize 0\n",
      "2019-06-13 10:37:01,905 : INFO : EPOCH 3 - PROGRESS: at 58.07% examples, 522995 words/s, in_qsize 6, out_qsize 1\n",
      "2019-06-13 10:37:02,924 : INFO : EPOCH 3 - PROGRESS: at 61.47% examples, 516629 words/s, in_qsize 7, out_qsize 0\n",
      "2019-06-13 10:37:03,940 : INFO : EPOCH 3 - PROGRESS: at 65.17% examples, 513337 words/s, in_qsize 7, out_qsize 0\n",
      "2019-06-13 10:37:04,942 : INFO : EPOCH 3 - PROGRESS: at 69.36% examples, 514653 words/s, in_qsize 7, out_qsize 0\n",
      "2019-06-13 10:37:05,956 : INFO : EPOCH 3 - PROGRESS: at 71.88% examples, 503687 words/s, in_qsize 7, out_qsize 0\n",
      "2019-06-13 10:37:06,959 : INFO : EPOCH 3 - PROGRESS: at 75.48% examples, 501220 words/s, in_qsize 7, out_qsize 0\n",
      "2019-06-13 10:37:07,960 : INFO : EPOCH 3 - PROGRESS: at 79.97% examples, 504693 words/s, in_qsize 8, out_qsize 1\n",
      "2019-06-13 10:37:08,982 : INFO : EPOCH 3 - PROGRESS: at 83.84% examples, 503621 words/s, in_qsize 8, out_qsize 1\n",
      "2019-06-13 10:37:09,988 : INFO : EPOCH 3 - PROGRESS: at 88.34% examples, 506888 words/s, in_qsize 5, out_qsize 1\n",
      "2019-06-13 10:37:10,991 : INFO : EPOCH 3 - PROGRESS: at 92.74% examples, 509020 words/s, in_qsize 7, out_qsize 0\n",
      "2019-06-13 10:37:11,993 : INFO : EPOCH 3 - PROGRESS: at 95.71% examples, 503318 words/s, in_qsize 7, out_qsize 0\n",
      "2019-06-13 10:37:12,956 : INFO : worker thread finished; awaiting finish of 3 more threads\n",
      "2019-06-13 10:37:12,960 : INFO : worker thread finished; awaiting finish of 2 more threads\n",
      "2019-06-13 10:37:12,976 : INFO : worker thread finished; awaiting finish of 1 more threads\n",
      "2019-06-13 10:37:12,982 : INFO : worker thread finished; awaiting finish of 0 more threads\n",
      "2019-06-13 10:37:12,983 : INFO : EPOCH - 3 : training on 17798082 raw words (12749963 effective words) took 25.2s, 505665 effective words/s\n",
      "2019-06-13 10:37:14,001 : INFO : EPOCH 4 - PROGRESS: at 4.53% examples, 578142 words/s, in_qsize 7, out_qsize 0\n",
      "2019-06-13 10:37:15,008 : INFO : EPOCH 4 - PROGRESS: at 9.12% examples, 576420 words/s, in_qsize 7, out_qsize 0\n",
      "2019-06-13 10:37:16,016 : INFO : EPOCH 4 - PROGRESS: at 13.88% examples, 583319 words/s, in_qsize 7, out_qsize 0\n",
      "2019-06-13 10:37:17,033 : INFO : EPOCH 4 - PROGRESS: at 17.29% examples, 542564 words/s, in_qsize 7, out_qsize 0\n",
      "2019-06-13 10:37:18,053 : INFO : EPOCH 4 - PROGRESS: at 21.12% examples, 529312 words/s, in_qsize 8, out_qsize 0\n",
      "2019-06-13 10:37:19,061 : INFO : EPOCH 4 - PROGRESS: at 25.69% examples, 536889 words/s, in_qsize 8, out_qsize 1\n",
      "2019-06-13 10:37:20,066 : INFO : EPOCH 4 - PROGRESS: at 30.56% examples, 548377 words/s, in_qsize 8, out_qsize 0\n",
      "2019-06-13 10:37:21,080 : INFO : EPOCH 4 - PROGRESS: at 35.16% examples, 551157 words/s, in_qsize 7, out_qsize 0\n",
      "2019-06-13 10:37:22,136 : INFO : EPOCH 4 - PROGRESS: at 39.14% examples, 543135 words/s, in_qsize 6, out_qsize 1\n",
      "2019-06-13 10:37:23,138 : INFO : EPOCH 4 - PROGRESS: at 43.75% examples, 547921 words/s, in_qsize 7, out_qsize 0\n",
      "2019-06-13 10:37:24,144 : INFO : EPOCH 4 - PROGRESS: at 48.66% examples, 554914 words/s, in_qsize 7, out_qsize 0\n",
      "2019-06-13 10:37:25,144 : INFO : EPOCH 4 - PROGRESS: at 53.32% examples, 558056 words/s, in_qsize 7, out_qsize 0\n",
      "2019-06-13 10:37:26,152 : INFO : EPOCH 4 - PROGRESS: at 57.84% examples, 559823 words/s, in_qsize 7, out_qsize 0\n",
      "2019-06-13 10:37:27,153 : INFO : EPOCH 4 - PROGRESS: at 61.36% examples, 552068 words/s, in_qsize 7, out_qsize 0\n",
      "2019-06-13 10:37:28,159 : INFO : EPOCH 4 - PROGRESS: at 65.57% examples, 550814 words/s, in_qsize 7, out_qsize 0\n",
      "2019-06-13 10:37:29,175 : INFO : EPOCH 4 - PROGRESS: at 70.11% examples, 552021 words/s, in_qsize 7, out_qsize 0\n",
      "2019-06-13 10:37:30,191 : INFO : EPOCH 4 - PROGRESS: at 74.85% examples, 554792 words/s, in_qsize 7, out_qsize 0\n",
      "2019-06-13 10:37:31,200 : INFO : EPOCH 4 - PROGRESS: at 79.52% examples, 556658 words/s, in_qsize 7, out_qsize 1\n",
      "2019-06-13 10:37:32,205 : INFO : EPOCH 4 - PROGRESS: at 84.28% examples, 559199 words/s, in_qsize 7, out_qsize 0\n",
      "2019-06-13 10:37:33,209 : INFO : EPOCH 4 - PROGRESS: at 87.03% examples, 548766 words/s, in_qsize 7, out_qsize 0\n",
      "2019-06-13 10:37:34,235 : INFO : EPOCH 4 - PROGRESS: at 91.37% examples, 548500 words/s, in_qsize 8, out_qsize 0\n",
      "2019-06-13 10:37:35,247 : INFO : EPOCH 4 - PROGRESS: at 96.53% examples, 552825 words/s, in_qsize 7, out_qsize 0\n",
      "2019-06-13 10:37:35,863 : INFO : worker thread finished; awaiting finish of 3 more threads\n",
      "2019-06-13 10:37:35,865 : INFO : worker thread finished; awaiting finish of 2 more threads\n",
      "2019-06-13 10:37:35,884 : INFO : worker thread finished; awaiting finish of 1 more threads\n",
      "2019-06-13 10:37:35,887 : INFO : worker thread finished; awaiting finish of 0 more threads\n",
      "2019-06-13 10:37:35,887 : INFO : EPOCH - 4 : training on 17798082 raw words (12749459 effective words) took 22.9s, 557034 effective words/s\n",
      "2019-06-13 10:37:36,902 : INFO : EPOCH 5 - PROGRESS: at 5.19% examples, 662208 words/s, in_qsize 7, out_qsize 0\n",
      "2019-06-13 10:37:37,910 : INFO : EPOCH 5 - PROGRESS: at 10.92% examples, 689627 words/s, in_qsize 7, out_qsize 0\n",
      "2019-06-13 10:37:38,921 : INFO : EPOCH 5 - PROGRESS: at 16.06% examples, 674395 words/s, in_qsize 7, out_qsize 0\n",
      "2019-06-13 10:37:39,933 : INFO : EPOCH 5 - PROGRESS: at 21.58% examples, 677147 words/s, in_qsize 7, out_qsize 0\n",
      "2019-06-13 10:37:40,939 : INFO : EPOCH 5 - PROGRESS: at 27.36% examples, 688008 words/s, in_qsize 7, out_qsize 0\n",
      "2019-06-13 10:37:41,945 : INFO : EPOCH 5 - PROGRESS: at 32.80% examples, 686905 words/s, in_qsize 7, out_qsize 0\n",
      "2019-06-13 10:37:42,945 : INFO : EPOCH 5 - PROGRESS: at 38.06% examples, 684841 words/s, in_qsize 7, out_qsize 0\n",
      "2019-06-13 10:37:43,946 : INFO : EPOCH 5 - PROGRESS: at 43.42% examples, 684984 words/s, in_qsize 8, out_qsize 0\n",
      "2019-06-13 10:37:44,958 : INFO : EPOCH 5 - PROGRESS: at 48.16% examples, 675514 words/s, in_qsize 7, out_qsize 0\n",
      "2019-06-13 10:37:45,971 : INFO : EPOCH 5 - PROGRESS: at 52.10% examples, 657330 words/s, in_qsize 7, out_qsize 0\n",
      "2019-06-13 10:37:46,976 : INFO : EPOCH 5 - PROGRESS: at 56.15% examples, 644774 words/s, in_qsize 7, out_qsize 0\n",
      "2019-06-13 10:37:47,985 : INFO : EPOCH 5 - PROGRESS: at 60.64% examples, 638840 words/s, in_qsize 7, out_qsize 0\n",
      "2019-06-13 10:37:49,005 : INFO : EPOCH 5 - PROGRESS: at 64.50% examples, 626754 words/s, in_qsize 7, out_qsize 0\n",
      "2019-06-13 10:37:50,018 : INFO : EPOCH 5 - PROGRESS: at 69.03% examples, 622848 words/s, in_qsize 7, out_qsize 0\n",
      "2019-06-13 10:37:51,033 : INFO : EPOCH 5 - PROGRESS: at 74.23% examples, 625068 words/s, in_qsize 7, out_qsize 0\n",
      "2019-06-13 10:37:52,037 : INFO : EPOCH 5 - PROGRESS: at 79.57% examples, 628267 words/s, in_qsize 7, out_qsize 0\n",
      "2019-06-13 10:37:53,045 : INFO : EPOCH 5 - PROGRESS: at 84.72% examples, 629712 words/s, in_qsize 7, out_qsize 0\n",
      "2019-06-13 10:37:54,046 : INFO : EPOCH 5 - PROGRESS: at 89.97% examples, 632051 words/s, in_qsize 8, out_qsize 0\n",
      "2019-06-13 10:37:55,055 : INFO : EPOCH 5 - PROGRESS: at 95.36% examples, 634238 words/s, in_qsize 8, out_qsize 0\n",
      "2019-06-13 10:37:55,896 : INFO : worker thread finished; awaiting finish of 3 more threads\n",
      "2019-06-13 10:37:55,897 : INFO : worker thread finished; awaiting finish of 2 more threads\n",
      "2019-06-13 10:37:55,918 : INFO : worker thread finished; awaiting finish of 1 more threads\n",
      "2019-06-13 10:37:55,921 : INFO : worker thread finished; awaiting finish of 0 more threads\n"
     ]
    },
    {
     "name": "stderr",
     "output_type": "stream",
     "text": [
      "2019-06-13 10:37:55,922 : INFO : EPOCH - 5 : training on 17798082 raw words (12749930 effective words) took 20.0s, 636742 effective words/s\n",
      "2019-06-13 10:37:55,922 : INFO : training on a 88990410 raw words (63748035 effective words) took 116.4s, 547543 effective words/s\n",
      "2019-06-13 10:37:55,923 : INFO : precomputing L2-norms of word weight vectors\n",
      "2019-06-13 10:37:55,957 : INFO : saving Word2Vec object under 300features_40minwords_10context, separately None\n",
      "2019-06-13 10:37:55,959 : INFO : not storing attribute vectors_norm\n",
      "2019-06-13 10:37:55,960 : INFO : not storing attribute cum_table\n",
      "2019-06-13 10:37:56,530 : INFO : saved 300features_40minwords_10context\n"
     ]
    }
   ],
   "source": [
    "# Import the built-in logging module and configure it so that Word2Vec \n",
    "# creates nice output messages\n",
    "import logging\n",
    "logging.basicConfig(format='%(asctime)s : %(levelname)s : %(message)s',\\\n",
    "    level=logging.INFO)\n",
    "\n",
    "# Set values for various parameters\n",
    "num_features = 300    # Word vector dimensionality                      \n",
    "min_word_count = 40   # Minimum word count                        \n",
    "num_workers = 4       # Number of threads to run in parallel\n",
    "context = 10          # Context window size                                                                                    \n",
    "downsampling = 1e-3   # Downsample setting for frequent words\n",
    "\n",
    "# Initialize and train the model (this will take some time)\n",
    "from gensim.models import word2vec\n",
    "print(\"Training model...\")\n",
    "model = word2vec.Word2Vec(sentences, workers=num_workers, \\\n",
    "            size=num_features, min_count = min_word_count, \\\n",
    "            window = context, sample = downsampling)\n",
    "\n",
    "# If you don't plan to train the model any further, calling \n",
    "# init_sims will make the model much more memory-efficient.\n",
    "model.init_sims(replace=True)\n",
    "\n",
    "# It can be helpful to create a meaningful model name and \n",
    "# save the model for later use. You can load it later using Word2Vec.load()\n",
    "model_name = \"300features_40minwords_10context\"\n",
    "model.save(model_name)"
   ]
  },
  {
   "cell_type": "code",
   "execution_count": 9,
   "metadata": {},
   "outputs": [],
   "source": [
    "# exploring the model result"
   ]
  },
  {
   "cell_type": "code",
   "execution_count": 10,
   "metadata": {},
   "outputs": [
    {
     "name": "stderr",
     "output_type": "stream",
     "text": [
      "/Users/sohyun/anaconda3/lib/python3.6/site-packages/ipykernel_launcher.py:1: DeprecationWarning: Call to deprecated `doesnt_match` (Method will be removed in 4.0.0, use self.wv.doesnt_match() instead).\n",
      "  \"\"\"Entry point for launching an IPython kernel.\n"
     ]
    },
    {
     "data": {
      "text/plain": [
       "'kitchen'"
      ]
     },
     "execution_count": 10,
     "metadata": {},
     "output_type": "execute_result"
    }
   ],
   "source": [
    "model.doesnt_match(\"man woman child kitchen\".split())"
   ]
  },
  {
   "cell_type": "code",
   "execution_count": 11,
   "metadata": {},
   "outputs": [
    {
     "name": "stderr",
     "output_type": "stream",
     "text": [
      "/Users/sohyun/anaconda3/lib/python3.6/site-packages/ipykernel_launcher.py:1: DeprecationWarning: Call to deprecated `most_similar` (Method will be removed in 4.0.0, use self.wv.most_similar() instead).\n",
      "  \"\"\"Entry point for launching an IPython kernel.\n"
     ]
    },
    {
     "data": {
      "text/plain": [
       "[('woman', 0.6318554282188416),\n",
       " ('lad', 0.5945581197738647),\n",
       " ('lady', 0.5849864482879639),\n",
       " ('guy', 0.5348923206329346),\n",
       " ('farmer', 0.5239083766937256),\n",
       " ('men', 0.5230334997177124),\n",
       " ('millionaire', 0.5216241478919983),\n",
       " ('monk', 0.5184000730514526),\n",
       " ('businessman', 0.512630820274353),\n",
       " ('person', 0.5095211863517761)]"
      ]
     },
     "execution_count": 11,
     "metadata": {},
     "output_type": "execute_result"
    }
   ],
   "source": [
    "model.most_similar(\"man\")"
   ]
  },
  {
   "cell_type": "code",
   "execution_count": 12,
   "metadata": {},
   "outputs": [
    {
     "name": "stderr",
     "output_type": "stream",
     "text": [
      "/Users/sohyun/anaconda3/lib/python3.6/site-packages/ipykernel_launcher.py:1: DeprecationWarning: Call to deprecated `most_similar` (Method will be removed in 4.0.0, use self.wv.most_similar() instead).\n",
      "  \"\"\"Entry point for launching an IPython kernel.\n"
     ]
    },
    {
     "data": {
      "text/plain": [
       "[('princess', 0.6407474279403687),\n",
       " ('maid', 0.6254844665527344),\n",
       " ('bride', 0.6186751127243042),\n",
       " ('belle', 0.6068633794784546),\n",
       " ('victoria', 0.5981305837631226),\n",
       " ('mistress', 0.5968143343925476),\n",
       " ('goddess', 0.5934066772460938),\n",
       " ('desmond', 0.5878401398658752),\n",
       " ('stepmother', 0.5834432244300842),\n",
       " ('dame', 0.5813528895378113)]"
      ]
     },
     "execution_count": 12,
     "metadata": {},
     "output_type": "execute_result"
    }
   ],
   "source": [
    "model.most_similar(\"queen\")"
   ]
  },
  {
   "cell_type": "code",
   "execution_count": 13,
   "metadata": {},
   "outputs": [
    {
     "name": "stderr",
     "output_type": "stream",
     "text": [
      "/Users/sohyun/anaconda3/lib/python3.6/site-packages/ipykernel_launcher.py:1: DeprecationWarning: Call to deprecated `most_similar` (Method will be removed in 4.0.0, use self.wv.most_similar() instead).\n",
      "  \"\"\"Entry point for launching an IPython kernel.\n"
     ]
    },
    {
     "data": {
      "text/plain": [
       "[('terrible', 0.7712309956550598),\n",
       " ('atrocious', 0.7345525026321411),\n",
       " ('horrible', 0.7138197422027588),\n",
       " ('abysmal', 0.7053906917572021),\n",
       " ('dreadful', 0.7042431831359863),\n",
       " ('horrendous', 0.6868628859519958),\n",
       " ('appalling', 0.6740887761116028),\n",
       " ('horrid', 0.6633691191673279),\n",
       " ('lousy', 0.6420338153839111),\n",
       " ('amateurish', 0.6194838285446167)]"
      ]
     },
     "execution_count": 13,
     "metadata": {},
     "output_type": "execute_result"
    }
   ],
   "source": [
    "model.most_similar(\"awful\")"
   ]
  },
  {
   "cell_type": "code",
   "execution_count": 14,
   "metadata": {},
   "outputs": [],
   "source": [
    "# tutorial 3"
   ]
  },
  {
   "cell_type": "code",
   "execution_count": 15,
   "metadata": {},
   "outputs": [],
   "source": [
    "# load model"
   ]
  },
  {
   "cell_type": "code",
   "execution_count": 16,
   "metadata": {},
   "outputs": [
    {
     "name": "stderr",
     "output_type": "stream",
     "text": [
      "2019-06-13 10:45:13,750 : INFO : loading Word2Vec object from 300features_40minwords_10context\n",
      "2019-06-13 10:45:14,158 : INFO : loading wv recursively from 300features_40minwords_10context.wv.* with mmap=None\n",
      "2019-06-13 10:45:14,159 : INFO : setting ignored attribute vectors_norm to None\n",
      "2019-06-13 10:45:14,159 : INFO : loading vocabulary recursively from 300features_40minwords_10context.vocabulary.* with mmap=None\n",
      "2019-06-13 10:45:14,161 : INFO : loading trainables recursively from 300features_40minwords_10context.trainables.* with mmap=None\n",
      "2019-06-13 10:45:14,162 : INFO : setting ignored attribute cum_table to None\n",
      "2019-06-13 10:45:14,165 : INFO : loaded 300features_40minwords_10context\n"
     ]
    }
   ],
   "source": [
    "from gensim.models import Word2Vec\n",
    "model = Word2Vec.load(\"300features_40minwords_10context\")"
   ]
  },
  {
   "cell_type": "code",
   "execution_count": 19,
   "metadata": {},
   "outputs": [
    {
     "data": {
      "text/plain": [
       "<gensim.models.word2vec.Word2Vec at 0x119df9b70>"
      ]
     },
     "execution_count": 19,
     "metadata": {},
     "output_type": "execute_result"
    }
   ],
   "source": [
    "model"
   ]
  },
  {
   "cell_type": "code",
   "execution_count": 20,
   "metadata": {},
   "outputs": [],
   "source": [
    "# Attempt 1: Vector Averaging"
   ]
  },
  {
   "cell_type": "code",
   "execution_count": 28,
   "metadata": {},
   "outputs": [],
   "source": [
    "import numpy as np  # Make sure that numpy is imported\n",
    "\n",
    "def makeFeatureVec(words, model, num_features):\n",
    "    # Function to average all of the word vectors in a given paragraph\n",
    "    # Pre-initialize an empty numpy array (for speed)\n",
    "    featureVec = np.zeros((num_features,),dtype=\"float32\")\n",
    "    nwords = 0.\n",
    "    \n",
    "    # Index2word is a list that contains the names of the words in the model's vocabulary. \n",
    "    # Convert it to a set, for speed \n",
    "    index2word_set = set(model.wv.index2word)\n",
    "    \n",
    "    # Loop over each word in the review and, if it is in the model's vocaublary, add its feature vector to the total\n",
    "    for word in words:\n",
    "        if word in index2word_set: \n",
    "            nwords = nwords + 1.\n",
    "            featureVec = np.add(featureVec,model[word])\n",
    "     \n",
    "    # Divide the result by the number of words to get the average\n",
    "    featureVec = np.divide(featureVec,nwords)\n",
    "    return featureVec\n",
    "\n",
    "\n",
    "def getAvgFeatureVecs(reviews, model, num_features):\n",
    "    # Given a set of reviews (each one a list of words), \n",
    "    # calculate the average feature vector for each one and return a 2D numpy array \n",
    "    # Initialize a counter\n",
    "    counter = 0.\n",
    "     \n",
    "    # Preallocate a 2D numpy array, for speed\n",
    "    reviewFeatureVecs = np.zeros((len(reviews),num_features),dtype=\"float32\")\n",
    "     \n",
    "    # Loop through the reviews\n",
    "    for review in reviews:\n",
    "       # Print a status message every 1000th review\n",
    "       if counter%1000. == 0.:\n",
    "           print(\"Review %d of %d\" % (counter, len(reviews)))\n",
    "    \n",
    "       # Call the function (defined above) that makes average feature vectors\n",
    "       reviewFeatureVecs[int(counter)] = makeFeatureVec(review, model, \\\n",
    "           num_features)\n",
    "       \n",
    "       # Increment the counter\n",
    "       counter = counter + 1.\n",
    "    return reviewFeatureVecs"
   ]
  },
  {
   "cell_type": "code",
   "execution_count": 22,
   "metadata": {},
   "outputs": [],
   "source": [
    "# create average vectors for each paragraph"
   ]
  },
  {
   "cell_type": "code",
   "execution_count": 29,
   "metadata": {},
   "outputs": [
    {
     "name": "stdout",
     "output_type": "stream",
     "text": [
      "Review 0 of 25000\n"
     ]
    },
    {
     "name": "stderr",
     "output_type": "stream",
     "text": [
      "/Users/sohyun/anaconda3/lib/python3.6/site-packages/ipykernel_launcher.py:17: DeprecationWarning: Call to deprecated `__getitem__` (Method will be removed in 4.0.0, use self.wv.__getitem__() instead).\n"
     ]
    },
    {
     "name": "stdout",
     "output_type": "stream",
     "text": [
      "Review 1000 of 25000\n",
      "Review 2000 of 25000\n",
      "Review 3000 of 25000\n",
      "Review 4000 of 25000\n",
      "Review 5000 of 25000\n",
      "Review 6000 of 25000\n",
      "Review 7000 of 25000\n",
      "Review 8000 of 25000\n",
      "Review 9000 of 25000\n",
      "Review 10000 of 25000\n",
      "Review 11000 of 25000\n",
      "Review 12000 of 25000\n",
      "Review 13000 of 25000\n",
      "Review 14000 of 25000\n",
      "Review 15000 of 25000\n",
      "Review 16000 of 25000\n",
      "Review 17000 of 25000\n",
      "Review 18000 of 25000\n",
      "Review 19000 of 25000\n",
      "Review 20000 of 25000\n",
      "Review 21000 of 25000\n",
      "Review 22000 of 25000\n",
      "Review 23000 of 25000\n",
      "Review 24000 of 25000\n",
      "Creating average feature vecs for test reviews\n",
      "Review 0 of 25000\n",
      "Review 1000 of 25000\n",
      "Review 2000 of 25000\n",
      "Review 3000 of 25000\n",
      "Review 4000 of 25000\n",
      "Review 5000 of 25000\n",
      "Review 6000 of 25000\n",
      "Review 7000 of 25000\n",
      "Review 8000 of 25000\n",
      "Review 9000 of 25000\n",
      "Review 10000 of 25000\n",
      "Review 11000 of 25000\n",
      "Review 12000 of 25000\n",
      "Review 13000 of 25000\n",
      "Review 14000 of 25000\n",
      "Review 15000 of 25000\n",
      "Review 16000 of 25000\n",
      "Review 17000 of 25000\n",
      "Review 18000 of 25000\n",
      "Review 19000 of 25000\n",
      "Review 20000 of 25000\n",
      "Review 21000 of 25000\n",
      "Review 22000 of 25000\n",
      "Review 23000 of 25000\n",
      "Review 24000 of 25000\n"
     ]
    }
   ],
   "source": [
    "# Calculate average feature vectors for training and testing sets,\n",
    "# using the functions we defined above. Notice that we now use stop word removal.\n",
    "\n",
    "clean_train_reviews = []\n",
    "for review in train[\"review\"]:\n",
    "    clean_train_reviews.append( review_to_wordlist( review, \\\n",
    "        remove_stopwords=True ))\n",
    "\n",
    "trainDataVecs = getAvgFeatureVecs( clean_train_reviews, model, num_features )\n",
    "\n",
    "print(\"Creating average feature vecs for test reviews\")\n",
    "clean_test_reviews = []\n",
    "for review in test[\"review\"]:\n",
    "    clean_test_reviews.append( review_to_wordlist( review, \\\n",
    "        remove_stopwords=True ))\n",
    "\n",
    "testDataVecs = getAvgFeatureVecs( clean_test_reviews, model, num_features )"
   ]
  },
  {
   "cell_type": "code",
   "execution_count": 30,
   "metadata": {},
   "outputs": [],
   "source": [
    "# Attempt 2: k-means"
   ]
  },
  {
   "cell_type": "code",
   "execution_count": 31,
   "metadata": {},
   "outputs": [],
   "source": [
    "import pandas as pd\n",
    "import numpy as np\n",
    "from gensim.models import Word2Vec\n",
    "from sklearn.cluster import KMeans\n",
    "from sklearn.ensemble import RandomForestClassifier\n",
    "\n",
    "from bs4 import BeautifulSoup\n",
    "import re\n",
    "import time\n",
    "\n",
    "from nltk.corpus import stopwords\n",
    "import nltk.data\n",
    "\n",
    "import matplotlib.pyplot as plt\n",
    "import seaborn as sns\n",
    "%matplotlib inline"
   ]
  },
  {
   "cell_type": "code",
   "execution_count": 33,
   "metadata": {},
   "outputs": [
    {
     "name": "stderr",
     "output_type": "stream",
     "text": [
      "2019-06-13 11:18:19,276 : INFO : loading Word2Vec object from 300features_40minwords_10context\n",
      "2019-06-13 11:18:19,696 : INFO : loading wv recursively from 300features_40minwords_10context.wv.* with mmap=None\n",
      "2019-06-13 11:18:19,697 : INFO : setting ignored attribute vectors_norm to None\n",
      "2019-06-13 11:18:19,698 : INFO : loading vocabulary recursively from 300features_40minwords_10context.vocabulary.* with mmap=None\n",
      "2019-06-13 11:18:19,698 : INFO : loading trainables recursively from 300features_40minwords_10context.trainables.* with mmap=None\n",
      "2019-06-13 11:18:19,699 : INFO : setting ignored attribute cum_table to None\n",
      "2019-06-13 11:18:19,699 : INFO : loaded 300features_40minwords_10context\n"
     ]
    },
    {
     "data": {
      "text/plain": [
       "<gensim.models.word2vec.Word2Vec at 0x1a62c20ef0>"
      ]
     },
     "execution_count": 33,
     "metadata": {},
     "output_type": "execute_result"
    }
   ],
   "source": [
    "model = Word2Vec.load(\"300features_40minwords_10context\")\n",
    "model"
   ]
  },
  {
   "cell_type": "code",
   "execution_count": 34,
   "metadata": {},
   "outputs": [
    {
     "name": "stderr",
     "output_type": "stream",
     "text": [
      "/Users/sohyun/anaconda3/lib/python3.6/site-packages/ipykernel_launcher.py:1: DeprecationWarning: Call to deprecated `syn0` (Attribute will be removed in 4.0.0, use self.vectors instead).\n",
      "  \"\"\"Entry point for launching an IPython kernel.\n"
     ]
    },
    {
     "data": {
      "text/plain": [
       "numpy.ndarray"
      ]
     },
     "execution_count": 34,
     "metadata": {},
     "output_type": "execute_result"
    }
   ],
   "source": [
    "type(model.wv.syn0)"
   ]
  },
  {
   "cell_type": "code",
   "execution_count": 35,
   "metadata": {},
   "outputs": [
    {
     "name": "stderr",
     "output_type": "stream",
     "text": [
      "/Users/sohyun/anaconda3/lib/python3.6/site-packages/ipykernel_launcher.py:1: DeprecationWarning: Call to deprecated `syn0` (Attribute will be removed in 4.0.0, use self.vectors instead).\n",
      "  \"\"\"Entry point for launching an IPython kernel.\n"
     ]
    },
    {
     "data": {
      "text/plain": [
       "(16490, 300)"
      ]
     },
     "execution_count": 35,
     "metadata": {},
     "output_type": "execute_result"
    }
   ],
   "source": [
    "model.wv.syn0.shape"
   ]
  },
  {
   "cell_type": "code",
   "execution_count": 36,
   "metadata": {},
   "outputs": [
    {
     "name": "stderr",
     "output_type": "stream",
     "text": [
      "/Users/sohyun/anaconda3/lib/python3.6/site-packages/ipykernel_launcher.py:5: DeprecationWarning: Call to deprecated `syn0` (Attribute will be removed in 4.0.0, use self.vectors instead).\n",
      "  \"\"\"\n"
     ]
    },
    {
     "name": "stdout",
     "output_type": "stream",
     "text": [
      "Time taken for K Means clustering:  480.6833698749542 seconds.\n"
     ]
    }
   ],
   "source": [
    "# 단어 벡터에서 k-means를 실행하고 일부 클러스터를 찍어본다.\n",
    "start = time.time() # 시작시간\n",
    "\n",
    "# 클러스터의 크기 \"k\"를 어휘 크기의 1/5 이나 평균 5단어로 설정한다.\n",
    "word_vectors = model.wv.syn0 # 어휘의 feature vector\n",
    "num_clusters = word_vectors.shape[0] / 5\n",
    "num_clusters = int(num_clusters)\n",
    "\n",
    "# K means 를 정의하고 학습시킨다.\n",
    "kmeans_clustering = KMeans( n_clusters = num_clusters )\n",
    "idx = kmeans_clustering.fit_predict( word_vectors )\n",
    "\n",
    "# 끝난시간에서 시작시간을 빼서 걸린 시간을 구한다.\n",
    "end = time.time()\n",
    "elapsed = end - start\n",
    "print(\"Time taken for K Means clustering: \", elapsed, \"seconds.\")"
   ]
  },
  {
   "cell_type": "code",
   "execution_count": 37,
   "metadata": {},
   "outputs": [
    {
     "name": "stdout",
     "output_type": "stream",
     "text": [
      "\n",
      "Cluster 0\n",
      "['leila']\n",
      "\n",
      "Cluster 1\n",
      "['roberts', 'stiles', 'raul', 'rigg']\n",
      "\n",
      "Cluster 2\n",
      "['door', 'wall', 'floor', 'window', 'tree', 'glass', 'toilet', 'bottle', 'wheel', 'sweat', 'ceiling', 'curtain', 'fridge']\n",
      "\n",
      "Cluster 3\n",
      "['inadvertently', 'unwittingly', 'creasy', 'superhuman']\n",
      "\n",
      "Cluster 4\n",
      "['spielberg', 'kubrick', 'cronenberg', 'bakshi']\n",
      "\n",
      "Cluster 5\n",
      "['discerning']\n",
      "\n",
      "Cluster 6\n",
      "['bright', 'colorful', 'lively', 'colourful', 'brightly']\n",
      "\n",
      "Cluster 7\n",
      "['joe', 'bill', 'mike', 'rob', 'larry', 'buck', 'mickey', 'dave', 'dante', 'clay', 'barney', 'moe', 'shemp']\n",
      "\n",
      "Cluster 8\n",
      "['theaters', 'cinemas', 'theatres']\n",
      "\n",
      "Cluster 9\n",
      "['meets', 'returns', 'arrives', 'encounters', 'travels', 'enters', 'visits', 'marries', 'owns', 'belonged', 'awakens', 'rents', 'nursing', 'attends', 'inherits', 'announcing']\n"
     ]
    }
   ],
   "source": [
    "# 각 어휘 단어를 클러스터 번호에 매핑되게 word/Index 사전을 만든다.\n",
    "idx = list(idx)\n",
    "names = model.wv.index2word\n",
    "word_centroid_map = {names[i]: idx[i] for i in range(len(names))}\n",
    "#     word_centroid_map = dict(zip( model.wv.index2word, idx ))\n",
    "\n",
    "# 첫번째 클러스터의 처음 10개를 출력\n",
    "for cluster in range(0,10):\n",
    "    # 클러스터 번호를 출력\n",
    "    print(\"\\nCluster {}\".format(cluster))\n",
    "    \n",
    "    # 클러스터번호와 클러스터에 있는 단어를 찍는다.\n",
    "    words = []\n",
    "    for i in range(0,len(list(word_centroid_map.values()))):\n",
    "        if( list(word_centroid_map.values())[i] == cluster ):\n",
    "            words.append(list(word_centroid_map.keys())[i])\n",
    "    print(words)"
   ]
  },
  {
   "cell_type": "code",
   "execution_count": 38,
   "metadata": {},
   "outputs": [],
   "source": [
    "# centroid 는 두 클러스터의 중심점을 정의 한 다음 중심점의 거리를 측정한 것\n",
    "def create_bag_of_centroids( wordlist, word_centroid_map ):\n",
    "    \n",
    "    # 클러스터의 수는 word / centroid map에서 가장 높은 클러스트 인덱스와 같다.\n",
    "    num_centroids = max( word_centroid_map.values() ) + 1\n",
    "    \n",
    "    # 속도를 위해 bag of centroids vector를 미리 할당한다.\n",
    "    bag_of_centroids = np.zeros( num_centroids, dtype=\"float32\" )\n",
    "    \n",
    "    # 루프를 돌며 단어가 word_centroid_map에 있다면\n",
    "    # 해당되는 클러스터의 수를 하나씩 증가시켜 준다.\n",
    "    for word in wordlist:\n",
    "        if word in word_centroid_map:\n",
    "            index = word_centroid_map[word]\n",
    "            bag_of_centroids[index] += 1\n",
    "    \n",
    "    # bag of centroids를 반환한다.\n",
    "    return bag_of_centroids"
   ]
  },
  {
   "cell_type": "code",
   "execution_count": 42,
   "metadata": {},
   "outputs": [],
   "source": [
    "# Pre-allocate an array for the training set bags of centroids (for speed)\n",
    "train_centroids = np.zeros( (train[\"review\"].size, num_clusters), \\\n",
    "    dtype=\"float32\" )\n",
    "\n",
    "# Transform the training set reviews into bags of centroids\n",
    "counter = 0\n",
    "for review in clean_train_reviews:\n",
    "    train_centroids[counter] = create_bag_of_centroids( review, \\\n",
    "        word_centroid_map )\n",
    "    counter += 1\n",
    "\n",
    "# Repeat for test reviews \n",
    "test_centroids = np.zeros(( test[\"review\"].size, num_clusters), \\\n",
    "    dtype=\"float32\" )\n",
    "\n",
    "counter = 0\n",
    "for review in clean_test_reviews:\n",
    "    test_centroids[counter] = create_bag_of_centroids( review, \\\n",
    "        word_centroid_map )\n",
    "    counter += 1"
   ]
  },
  {
   "cell_type": "code",
   "execution_count": 44,
   "metadata": {},
   "outputs": [
    {
     "name": "stdout",
     "output_type": "stream",
     "text": [
      "Fitting a random forest to labeled training data...\n"
     ]
    }
   ],
   "source": [
    "# Fit a random forest and extract predictions \n",
    "forest = RandomForestClassifier(n_estimators = 100)\n",
    "\n",
    "print(\"Fitting a random forest to labeled training data...\")\n",
    "forest = forest.fit(train_centroids,train[\"sentiment\"])\n",
    "result = forest.predict(test_centroids)\n",
    "\n",
    "# Write the test results \n",
    "output = pd.DataFrame(data={\"id\":test[\"id\"], \"sentiment\":result})\n",
    "output.to_csv( \"/Users/sohyun/Desktop/review data/BagOfCentroids.csv\", index=False, quoting=3 )"
   ]
  },
  {
   "cell_type": "code",
   "execution_count": null,
   "metadata": {},
   "outputs": [],
   "source": []
  }
 ],
 "metadata": {
  "kernelspec": {
   "display_name": "Python 3",
   "language": "python",
   "name": "python3"
  },
  "language_info": {
   "codemirror_mode": {
    "name": "ipython",
    "version": 3
   },
   "file_extension": ".py",
   "mimetype": "text/x-python",
   "name": "python",
   "nbconvert_exporter": "python",
   "pygments_lexer": "ipython3",
   "version": "3.6.6"
  }
 },
 "nbformat": 4,
 "nbformat_minor": 2
}
